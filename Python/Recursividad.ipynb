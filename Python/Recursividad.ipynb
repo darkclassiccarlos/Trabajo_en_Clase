{
 "cells": [
  {
   "cell_type": "code",
   "execution_count": null,
   "metadata": {},
   "outputs": [],
   "source": [
    "import numpy as np"
   ]
  },
  {
   "cell_type": "code",
   "execution_count": null,
   "metadata": {},
   "outputs": [],
   "source": [
    "repartidor = []\n",
    "jugador = []\n",
    "while len(repartidor) !=2:\n",
    "    repartidor.append(np.random.randint(1,11))\n",
    "    if len(repartidor) == 2:\n",
    "        print(\"cartas del repartidor \", repartidor[1])\n",
    "while len(jugador) !=2:\n",
    "    jugador.append(np.random.randint(1,11))\n",
    "    if len(jugador) == 2:\n",
    "        print(\"cartas del jugador \", jugador)"
   ]
  },
  {
   "cell_type": "code",
   "execution_count": null,
   "metadata": {},
   "outputs": [],
   "source": [
    "def aumento(cartas):\n",
    "    if sum(np.array(cartas)) >= 17:\n",
    "        print(\"repartidor tiene: \", sum(np.array(cartas)), \" repartidor stop\")\n",
    "        return cartas\n",
    "    else:\n",
    "        print(\"repartidor tiene: \", sum(np.array(cartas)), \" repartidor aumenta\")\n",
    "        np.array(cartas.append(np.random.randint(1,11)))        \n",
    "        return aumento(cartas)"
   ]
  },
  {
   "cell_type": "code",
   "execution_count": null,
   "metadata": {},
   "outputs": [],
   "source": [
    "print(\"Inicia el juego\")\n",
    "print(\"cartas del repartidor: \", repartidor[1])\n",
    "print(\"cartas del jugador: \", jugador)"
   ]
  },
  {
   "cell_type": "code",
   "execution_count": null,
   "metadata": {},
   "outputs": [],
   "source": [
    "#suma de cartas\n",
    "if sum(jugador) == 21:\n",
    "    print(\"jugador tiene: \", jugador + \"Gana\")\n",
    "elif sum(jugador) > 21:\n",
    "    print(\"jugador tiene: \", jugador + \"jugador pierde\")\n",
    "while sum(jugador) < 21:\n",
    "    Accion = str(input(\"Carta o no carta? (responda si o no )\"))\n",
    "    if Accion == 'si':        \n",
    "        jugador.append(np.random.randint(1,11))\n",
    "        print(\"tiene un total de: \" + str(sum(jugador)) + \" con\", jugador)\n",
    "    else:\n",
    "        print(\"repartidor tiene: \", repartidor)\n",
    "        print(\"jugador tiene: \", jugador)                \n",
    "        repartidor_aumentado = aumento(repartidor)\n",
    "        if (sum(np.array(repartidor_aumentado))<21) and (sum(np.array(repartidor_aumentado)) > sum(jugador)):\n",
    "            print(\"jugador pierde\")\n",
    "        else:\n",
    "            print(\"jugador gana\")\n",
    "            break\n",
    "        \n",
    "if sum(repartidor) ==21:\n",
    "    print(\"repartidor tiene 21 gana repartidor\")\n",
    "elif sum(repartidor) > 21:\n",
    "    print(\"repartidor se paso repartidor pierde\")\n",
    "\n",
    "if sum(jugador) > 21:\n",
    "    print(\"Jugador1 pierde\")\n",
    "elif sum(jugador) == 21:\n",
    "    print(\"21 jugador1 Gana\")\n"
   ]
  },
  {
   "cell_type": "code",
   "execution_count": null,
   "metadata": {},
   "outputs": [],
   "source": []
  }
 ],
 "metadata": {
  "kernelspec": {
   "display_name": "Python 3",
   "language": "python",
   "name": "python3"
  },
  "language_info": {
   "codemirror_mode": {
    "name": "ipython",
    "version": 3
   },
   "file_extension": ".py",
   "mimetype": "text/x-python",
   "name": "python",
   "nbconvert_exporter": "python",
   "pygments_lexer": "ipython3",
   "version": "3.7.1"
  }
 },
 "nbformat": 4,
 "nbformat_minor": 2
}
