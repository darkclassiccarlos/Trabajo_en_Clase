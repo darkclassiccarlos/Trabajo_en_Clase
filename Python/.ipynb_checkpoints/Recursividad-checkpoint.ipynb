{
 "cells": [
  {
   "cell_type": "code",
   "execution_count": 1,
   "metadata": {},
   "outputs": [],
   "source": [
    "import random\n",
    "import re"
   ]
  },
  {
   "cell_type": "code",
   "execution_count": 2,
   "metadata": {},
   "outputs": [],
   "source": [
    "#definir la baraja\n",
    "def baraja():\n",
    "    baraja = []\n",
    "    for i in [\"♥\",\"♠\",\"♦\",\"♣\"]:\n",
    "        for v in range(1,14):\n",
    "            if (v==11):\n",
    "                str(baraja.append((\"J\"+i)))\n",
    "            elif(v ==12):       \n",
    "                str(baraja.append((\"Q\"+i)))\n",
    "            elif(v ==13):\n",
    "                str(baraja.append((\"K\"+i)))\n",
    "            elif(v ==1):\n",
    "                str(baraja.append((\"A\"+i)))\n",
    "            else:\n",
    "                baraja.append((repr(v)+i))\n",
    "    return baraja\n",
    "baraja=baraja()"
   ]
  },
  {
   "cell_type": "code",
   "execution_count": 3,
   "metadata": {},
   "outputs": [],
   "source": [
    "#restar baraja\n",
    "def restar_baraja(baraja,juego):\n",
    "    for x in juego:\n",
    "        if(\"\".join(x) in baraja):\n",
    "            baraja.remove(\"\".join(x))\n",
    "    return baraja\n",
    "#repartir Baraja\n",
    "def repartir(baraja):\n",
    "    repartidor = []\n",
    "    jugador = []\n",
    "    while len(repartidor) !=2 and len(jugador) !=2:\n",
    "        random.shuffle(baraja)\n",
    "        repartidor.append(baraja[:1])\n",
    "        restar_baraja(baraja, repartidor)\n",
    "        random.shuffle(baraja)\n",
    "        jugador.append(baraja[:1])\n",
    "        restar_baraja(baraja, jugador)\n",
    "    print(\"Inicia el juego\")\n",
    "    print(\"Cartas de la Casa \", repartidor[1])\n",
    "    print(\"Cartas del jugador \", jugador)\n",
    "    return repartidor, jugador"
   ]
  },
  {
   "cell_type": "code",
   "execution_count": 4,
   "metadata": {},
   "outputs": [],
   "source": [
    "#aumento de cartas\n",
    "def aumento(cartas):\n",
    "    if Juego(repartidor) >= 17:\n",
    "        #print(\"repartidor tiene: \", Juego(repartidor))\n",
    "        return cartas\n",
    "    else:\n",
    "        print(\"Repartidor tiene: \", Juego(repartidor), \"con \", repartidor)\n",
    "        repartidor.append(baraja[:1])\n",
    "        restar_baraja(baraja, repartidor)\n",
    "        return aumento(cartas)"
   ]
  },
  {
   "cell_type": "code",
   "execution_count": 5,
   "metadata": {},
   "outputs": [],
   "source": [
    "#Comparativa\n",
    "def Juego(juego):\n",
    "    print(juego)\n",
    "    sum = 0\n",
    "    for i in juego:\n",
    "        if (len(\"\".join(i))>2):\n",
    "            sum += 10\n",
    "        else:\n",
    "            for v in \"\".join(i):\n",
    "                if(re.findall('\\d+', v )):\n",
    "                    sum += int(v)\n",
    "                elif ('J' in v) or ('Q' in v) or ('K' in v): \n",
    "                    sum += 10\n",
    "                elif ('A'in v):\n",
    "                    sum +=11\n",
    "    return(int(sum))"
   ]
  },
  {
   "cell_type": "code",
   "execution_count": null,
   "metadata": {},
   "outputs": [],
   "source": [
    "juegos = repartir(baraja)\n",
    "repartidor = juegos[0]\n",
    "jugador = juegos[1]\n",
    "if Juego(jugador) == 21:\n",
    "    print(\"Jugador tiene: \", jugador + \"Blackjack Gana\")\n",
    "elif Juego(jugador) > 21:\n",
    "    print(\"Jugador tiene: \", jugador + \"jugador pierde\")\n",
    "while Juego(jugador) < 21:\n",
    "    Accion = str(input(\"Carta o no carta? (responda si o no ) \"))\n",
    "    if Accion == 'si':        \n",
    "        random.shuffle(baraja)\n",
    "        jugador.append(baraja[:1])\n",
    "        restar_baraja(baraja, jugador)\n",
    "        print(\"tiene un total de: \" + str(Juego(jugador)) + \" con: \", jugador)\n",
    "    else:\n",
    "        #print(\"repartidor tiene: \", repartidor)\n",
    "        #print(\"jugador tiene: \", jugador)                \n",
    "        repartidor_aumentado = aumento(repartidor)\n",
    "        print(\"Repartidor tiene: \" + str(Juego(repartidor)) + \" con: \", repartidor)\n",
    "        if (Juego(repartidor)<21) and (Juego(repartidor)) >= Juego(jugador):\n",
    "            print(\"Jugador pierde\")\n",
    "            break\n",
    "        elif Juego(repartidor) > 21:\n",
    "            print(\"Jugador Gana\")\n",
    "            break\n",
    "        elif Juego(jugador) == 21 and Juego(repartidor) == 21:\n",
    "            print(\"Jugador Pierde\")\n",
    "        else:\n",
    "            #print(\"Jugador gana\")\n",
    "            break\n",
    "        \n",
    "if Juego(repartidor) ==21:\n",
    "    print(\"Repartidor tiene 21 gana repartidor\")\n",
    "elif Juego(jugador) > 21:\n",
    "    print(\"Jugador pierde\")\n",
    "elif Juego(jugador) == 21:\n",
    "    print(\"Repartidor tiene: \" + str(Juego(repartidor)) + \" con: \", repartidor)\n",
    "    print(\"21 Jugador Gana\")"
   ]
  },
  {
   "cell_type": "code",
   "execution_count": null,
   "metadata": {},
   "outputs": [],
   "source": []
  }
 ],
 "metadata": {
  "kernelspec": {
   "display_name": "Python 3",
   "language": "python",
   "name": "python3"
  },
  "language_info": {
   "codemirror_mode": {
    "name": "ipython",
    "version": 3
   },
   "file_extension": ".py",
   "mimetype": "text/x-python",
   "name": "python",
   "nbconvert_exporter": "python",
   "pygments_lexer": "ipython3",
   "version": "3.7.1"
  }
 },
 "nbformat": 4,
 "nbformat_minor": 2
}
